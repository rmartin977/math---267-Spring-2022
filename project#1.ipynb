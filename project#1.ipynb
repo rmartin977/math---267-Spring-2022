{
  "cells": [
    {
      "cell_type": "markdown",
      "metadata": {
        "id": "view-in-github",
        "colab_type": "text"
      },
      "source": [
        "<a href=\"https://colab.research.google.com/github/rmartin977/math---267-Spring-2022/blob/main/project%231.ipynb\" target=\"_parent\"><img src=\"https://colab.research.google.com/assets/colab-badge.svg\" alt=\"Open In Colab\"/></a>"
      ]
    },
    {
      "cell_type": "markdown",
      "id": "d74f86a2-6358-4d76-8c1d-6f8485e17691",
      "metadata": {
        "id": "d74f86a2-6358-4d76-8c1d-6f8485e17691"
      },
      "source": [
        "<h1 style='font-size:4rem;color:orange;'>Math 267 Project #1"
      ]
    },
    {
      "cell_type": "markdown",
      "id": "dee32312-512c-4fbd-a32e-fd1717b7f487",
      "metadata": {
        "id": "dee32312-512c-4fbd-a32e-fd1717b7f487"
      },
      "source": [
        "<h2> Name --                                            Student ID  --  "
      ]
    },
    {
      "cell_type": "markdown",
      "id": "2f7c49dc-b818-455d-ac33-42e0e86458c0",
      "metadata": {
        "id": "2f7c49dc-b818-455d-ac33-42e0e86458c0"
      },
      "source": [
        "<hr>\n",
        "In this jupyter/colab notebook we will show how to implement Euler's method using the python programming language. The emphasis will be more on code readability than efficiency.\n",
        "\n",
        "Your instructions.\n",
        "\n",
        "Make a copy of this notebook on your local drive. Rename the notebook \"project#1_lastname.ipynb\". Edit the cell above to enter your name and student ID. Read and execute each cell below.  Complete all exercises. Once done you will share this notebook with  rm908@email.vccs.edu\n",
        "<hr>"
      ]
    },
    {
      "cell_type": "markdown",
      "id": "5f57cb7a-395a-40e7-8c5f-e2bb328f4a5b",
      "metadata": {
        "id": "5f57cb7a-395a-40e7-8c5f-e2bb328f4a5b"
      },
      "source": [
        "# Euler's Method\n",
        "\n",
        "The ability to obtain a formulaic solution for an ODE is the exception rather than the rule. The majority\n",
        "of the time we resort to finding a “numerical solution” where the time axis is discretized. The numerical\n",
        "solution will yield a list of points {(t0, y0), (t1, y2), (t3, y3), (t4, y4) ... ....} which ideally lie along the solution\n",
        "curve. Please consult section 2.6 in the text  for further details on  Euler’s method.\n",
        "\n",
        "Now to solve the initial value problem:\n",
        "\n",
        "$$y'=f(t,y)$$\n",
        "$$y(t_0)=y_0$$\n",
        "\n",
        "using Euler's method we simply iterate the following:\n",
        "\n",
        "$$t_{n+1} = t_n + \\Delta t$$\n",
        "$$y_{n+1} = y_n + f(t_n,y_n)\\cdot \\Delta t$$\n",
        "\n",
        "where $\\Delta t$ is the \"step size\". We often use the letter \"h\" to represent the step size. Also recall that $f(t,y)$ is the \"slope field\" for the differential equation. Also note for this example that the letter \"y\" is being used to represent the dependent variable and \"t\" for the indepentent varialbe.\n",
        "<hr>"
      ]
    },
    {
      "cell_type": "markdown",
      "id": "2f41e0c4-6749-4812-a269-0ed273d24535",
      "metadata": {
        "id": "2f41e0c4-6749-4812-a269-0ed273d24535"
      },
      "source": [
        "## Exercise #1\n",
        "\n",
        "<h3> For our first exercise we use Euler's method to solve the following initial value problem.\n",
        "<br><br>\n",
        "$$y' = -y +t$$\n",
        "$$y(0) = 0.5$$\n",
        "\n",
        "<h3> Solve on interval $[0,1.2]$ and use h = 0.1.\n"
      ]
    },
    {
      "cell_type": "markdown",
      "id": "a718fb4d-f2e6-4b86-8a8a-3c565d5f8ded",
      "metadata": {
        "id": "a718fb4d-f2e6-4b86-8a8a-3c565d5f8ded"
      },
      "source": [
        "Execute the cell below to import necessary libraries"
      ]
    },
    {
      "cell_type": "code",
      "execution_count": null,
      "id": "f52331cb-8777-4d71-b19e-b0e890ccf61a",
      "metadata": {
        "id": "f52331cb-8777-4d71-b19e-b0e890ccf61a"
      },
      "outputs": [],
      "source": [
        "# import libraries\n",
        "\n",
        "import numpy as np\n",
        "import pandas as pd\n",
        "import matplotlib.pyplot as plt\n",
        "# uncomment the line below if you are running a macbook\n",
        "# %config InlineBackend.figure_format ='retina'"
      ]
    },
    {
      "cell_type": "markdown",
      "id": "38e9983e-6752-4225-a966-a8eac52b45ca",
      "metadata": {
        "id": "38e9983e-6752-4225-a966-a8eac52b45ca"
      },
      "source": [
        "<h3> The python code to numerically solve the above ode is in the cell below. Read the code and undersand each instruction.\n",
        "    Afterwards execute the cell."
      ]
    },
    {
      "cell_type": "code",
      "execution_count": null,
      "id": "62012841-ba51-4f32-9083-0e1308bc1664",
      "metadata": {
        "id": "62012841-ba51-4f32-9083-0e1308bc1664"
      },
      "outputs": [],
      "source": [
        "# define slope function\n",
        "\n",
        "def f(t,y):\n",
        "    return -y + t\n",
        "\n",
        "h = 0.1\n",
        "\n",
        "# We first \"discretize\" the domain.  The array t holds the t values\n",
        "\n",
        "t = np.arange(0,1.3,h) \n",
        "y_euler = np.zeros_like(t)  # initialize y array to zeros\n",
        "y_euler[0] = 0.5 # set the intial value\n",
        "\n",
        "# implement Euler's method\n",
        "\n",
        "for i in range(len(y_euler)-1):\n",
        "    y_euler[i+1] = y_euler[i] + f(t[i],y_euler[i])* h\n",
        "    "
      ]
    },
    {
      "cell_type": "markdown",
      "id": "ee76fb6a-94fe-4e67-902b-ed6b3144da44",
      "metadata": {
        "id": "ee76fb6a-94fe-4e67-902b-ed6b3144da44"
      },
      "source": [
        "<h3> Let us visualize results.\n",
        " To visualize the results in table form execute the following cell."
      ]
    },
    {
      "cell_type": "code",
      "execution_count": null,
      "id": "83a57db4-beb6-4b04-bee2-1a5e67af480d",
      "metadata": {
        "id": "83a57db4-beb6-4b04-bee2-1a5e67af480d"
      },
      "outputs": [],
      "source": [
        "# the exact solution of the ode is defined by the function below\n",
        "\n",
        "def y_e(t):\n",
        "    return 1.5*np.exp(-t)-1+t\n",
        "\n",
        "y_exact = y_e(t) # compute exact values\n",
        "\n",
        "# Now display results in a table\n",
        "\n",
        "df = pd.DataFrame({\"t\":t,\"y_exact\":y_exact,\"y_Euler\":y_euler})\n",
        "df"
      ]
    },
    {
      "cell_type": "markdown",
      "id": "f77807c8-4f14-4924-a488-d7b2f70af43a",
      "metadata": {
        "id": "f77807c8-4f14-4924-a488-d7b2f70af43a"
      },
      "source": [
        "<hr>\n",
        "<h3> To compute percent error for our results we use the formula:\n",
        "<br><br>\n",
        "\n",
        "$$ \\frac{(y_{exact} - y_{euler})}{y_{exact}}\\times100\\%  $$\n",
        "\n",
        " Execute the following cell to compute and display the percent error in approximating $y(1)$ for the previous example. You should see an error of about 1.6%."
      ]
    },
    {
      "cell_type": "code",
      "execution_count": null,
      "id": "0690b04f-fbb4-47b1-8500-35612ed9f470",
      "metadata": {
        "id": "0690b04f-fbb4-47b1-8500-35612ed9f470"
      },
      "outputs": [],
      "source": [
        "# For the above ode the % difference when computing y(1) is:\n",
        "error = np.abs(y_exact[1]-y_euler[1])/y_exact[1]*100\n",
        "print(f\"The percent error using h = {h} is {round(error,2)}%.\")"
      ]
    },
    {
      "cell_type": "markdown",
      "id": "d30b4d8d-fc94-449f-8216-cceaf741a652",
      "metadata": {
        "id": "d30b4d8d-fc94-449f-8216-cceaf741a652"
      },
      "source": [
        "<h3> Exercise 1.a\n",
        "\n",
        "<h4> One way to improve the result is by decreasing the value of h. Go back and reexecute the code in all the previous cells  with h changed to 0.05. \n",
        "<hr>"
      ]
    },
    {
      "cell_type": "markdown",
      "id": "bbfb3898-aa7b-4409-ac19-89002038e279",
      "metadata": {
        "id": "bbfb3898-aa7b-4409-ac19-89002038e279"
      },
      "source": [
        "Edit the text cell below to record your results.\n",
        "You need to select and edit this cell.\n",
        "\n",
        " h = ______.     percent error = _________\n",
        " \n",
        " h = ______      percent error = _________\n",
        "\n",
        "\n"
      ]
    },
    {
      "cell_type": "markdown",
      "id": "d6a4d73a-a3f2-4d38-8008-12f77559185a",
      "metadata": {
        "id": "d6a4d73a-a3f2-4d38-8008-12f77559185a"
      },
      "source": [
        "<hr>\n",
        "\n",
        "<h3> Now reset the value of h back to h=.1 and reexecute the cells so we can graph our results.\n",
        "\n"
      ]
    },
    {
      "cell_type": "markdown",
      "id": "00f361b3-f17c-45d6-9e94-30de1e04f828",
      "metadata": {
        "id": "00f361b3-f17c-45d6-9e94-30de1e04f828"
      },
      "source": [
        "<h3> Plot the results\n",
        "<h4> The code in the cell below will make a plot of the exact and approximate solutions. Execute the cell and study the graph."
      ]
    },
    {
      "cell_type": "code",
      "execution_count": null,
      "id": "05bb58c4-6706-4e17-b80d-208fd8f1ec96",
      "metadata": {
        "id": "05bb58c4-6706-4e17-b80d-208fd8f1ec96"
      },
      "outputs": [],
      "source": [
        "plt.figure(figsize=(8,6))\n",
        "plt.plot(t,y_euler,'.')\n",
        "plt.plot(t,y_euler,label='approx')\n",
        "\n",
        "plt.plot(t,y_exact,label='exact')\n",
        "plt.legend();\n",
        "plt.grid()\n",
        "plt.xlabel(\"t\")\n",
        "plt.ylabel(\"y\")\n",
        "plt.title(\"Euler's Method\");\n",
        "\n",
        "# To save a copy of the plot to a file uncomment the following.  Note you must have your drive mounted.\n",
        "#plt.savefig(\"euler.png\",dpi=300)"
      ]
    },
    {
      "cell_type": "markdown",
      "id": "56cb2969-2f02-4682-a874-c9149eb873b7",
      "metadata": {
        "id": "56cb2969-2f02-4682-a874-c9149eb873b7"
      },
      "source": [
        "<hr>\n",
        "\n",
        "# Improved Euler's Method"
      ]
    },
    {
      "cell_type": "markdown",
      "id": "908eb0ba-6ece-4178-a1c5-b0a46200b0d0",
      "metadata": {
        "id": "908eb0ba-6ece-4178-a1c5-b0a46200b0d0"
      },
      "source": [
        "Euler’s method, while nice in its simplicity, is too inaccurate and slow for practical use. Euler’s method predicts the next point $(t_{n+1},y_{n+1})$ on the solution curve by computing the slope $f (t, y)$ of the solution curve at the point $(t_n,y_n)$, this is determined by evaluating the slope field at that point -- slope =\n",
        "$f(t_n, y_n)$.\n",
        "The improved Euler’s method predicts the next point by computing two slopes and using their average as our final slope value. The two slopes computed are\n",
        "slope1 = $f (t_n, y_n)$ and slope2 = $f (t_{n+1}, y^*_{n+1})$ . Thus we first need to predict the next value $y^*_{n+1}$ using the\n",
        "standard Euler procedure. Next slope2, the estimation of the slope at the end point of the interval $[t_n, t_{n+1}]$ is computed. Finally we compute our ultimate estimation for the slope by taking the average of the two: slope = (f (tn, yn) + f (tn+1, y*n+1) / 2. This slope then is used to determine the next point in our solution$(t_{n+1}, y_{n+1})$ and the steps are repeated."
      ]
    },
    {
      "cell_type": "markdown",
      "id": "84e0a7b9-6920-4375-8dd5-e26780f6c7a9",
      "metadata": {
        "id": "84e0a7b9-6920-4375-8dd5-e26780f6c7a9"
      },
      "source": [
        "The iteration formulas for the improved Euler's method are thus given by:\n",
        "\n",
        "$$t_{n+1} = t_n + \\Delta t$$\n",
        "\n",
        "$$y_{n+1} = y_n + \\frac{(f(t_n,y_n)+f(t_{n+1},y^*_{n+1}))}{2}\\cdot \\Delta t$$\n",
        "\n",
        "where\n",
        "$$y^*_{n+1} = y_n +f(t_n,y_n)\\cdot \\Delta t$$\n",
        "\n",
        "<hr>\n"
      ]
    },
    {
      "cell_type": "markdown",
      "id": "9fd41766-9424-4137-b325-91271910e7a8",
      "metadata": {
        "id": "9fd41766-9424-4137-b325-91271910e7a8"
      },
      "source": [
        "<h3> Exercise #2\n",
        "\n",
        " For our second exercise we will use  the impoved Euler's method to solve the following initial value problem.\n",
        "\n",
        "$$y' = -y +t$$\n",
        "$$y(0) = 0.5$$\n",
        "\n",
        " Solve on interval $[0,1.2]$ and use h = 0.1.\n",
        "\n",
        "\n",
        "<hr>"
      ]
    },
    {
      "cell_type": "markdown",
      "id": "ddc7696e-0890-47bc-98d6-788a79f9d188",
      "metadata": {
        "id": "ddc7696e-0890-47bc-98d6-788a79f9d188"
      },
      "source": [
        "The suggested algorithm for implementing the improved Euler method is:\n",
        "\n",
        "1. Define the slope function.\n",
        "2. Set the value of h.\n",
        "3. Intialize the array of time values. We call the array \"t\".\n",
        "4. Intialize the y_improved array to zeros.\n",
        "5. Set the initial condition for y_improved.\n",
        "6. Repeat the following:<br>\n",
        "\n",
        "Compute slope1 using slope1= $ f(t_n,y_n) $ <br>\n",
        "Compute $y^*_{n+1}$ <br>\n",
        "Compute slope2 using slope2=$f(t_{n+1},y^*_{n+1})$<br>\n",
        "Define slope = (slope1+slope2)/2<br>\n",
        "Compute $y_{n+1}=y_n+\\text{slope} \\cdot h$\n",
        "<hr>\n",
        "\n"
      ]
    },
    {
      "cell_type": "markdown",
      "id": "ceb96957-8098-4256-bb04-4b98bb481c26",
      "metadata": {
        "id": "ceb96957-8098-4256-bb04-4b98bb481c26"
      },
      "source": [
        "<h3>  Exercise 2.a\n"
      ]
    },
    {
      "cell_type": "markdown",
      "id": "73b8328b-92d0-4973-add8-1065ef55a981",
      "metadata": {
        "id": "73b8328b-92d0-4973-add8-1065ef55a981"
      },
      "source": [
        "<h4> The code that implements Euler's method is copied in the cell below. Edit this code to implement the improved Euler method (Use the algorithm above). Note you need to rename the variable y_euler to y_improved."
      ]
    },
    {
      "cell_type": "code",
      "execution_count": null,
      "metadata": {
        "id": "loW-WZ1bDmMW"
      },
      "outputs": [],
      "source": [
        "# define slope function\n",
        "\n",
        "def f(t,y):\n",
        "    return -y + t\n",
        "\n",
        "h = 0.1\n",
        "\n",
        "# We first \"discretize\" the domain.  The array t holds the t values\n",
        "\n",
        "t = np.arange(0,1.3,h) \n",
        "y_euler = np.zeros_like(t)  # initialize y array to zeros\n",
        "y_euler[0] = 0.5 # set the intial value\n",
        "\n",
        "# implement Euler's method\n",
        "\n",
        "for i in range(len(y_euler)-1):\n",
        "    y_euler[i+1] = y_euler[i] + f(t[i],y_euler[i])* h\n",
        "    "
      ],
      "id": "loW-WZ1bDmMW"
    },
    {
      "cell_type": "markdown",
      "id": "05aa7435-358e-4979-895b-20a538225156",
      "metadata": {
        "id": "05aa7435-358e-4979-895b-20a538225156"
      },
      "source": [
        "<h4> Now let us see the results in table form.  Execute the cell below. You should see a table with 4 columns. If you get an error try to troubleshoot.\n",
        "    If necessary you can share the notebook with me and I will help."
      ]
    },
    {
      "cell_type": "code",
      "execution_count": null,
      "id": "c2f28755-816a-4a50-bc14-f4b0a3af7fe0",
      "metadata": {
        "id": "c2f28755-816a-4a50-bc14-f4b0a3af7fe0"
      },
      "outputs": [],
      "source": [
        "df = pd.DataFrame({\"t\":t,\"y_exact\":y_exact,\"y_Euler\":y_euler,\"y_Impoved\":y_improved})\n",
        "df"
      ]
    },
    {
      "cell_type": "markdown",
      "id": "7fe91525-419f-403d-aa96-bdf54fd58255",
      "metadata": {
        "id": "7fe91525-419f-403d-aa96-bdf54fd58255"
      },
      "source": [
        "<hr>\n",
        "\n",
        "## Percent Error for improved Euler's method"
      ]
    },
    {
      "cell_type": "markdown",
      "id": "a7089399-1b24-4cc2-8bd8-562113ef5d88",
      "metadata": {
        "tags": [],
        "id": "a7089399-1b24-4cc2-8bd8-562113ef5d88"
      },
      "source": [
        "<h4> Let us now compute the percent error for $y(1)$.  Execute the cell below to display the percent error. Hint: your answer should be less that $0.1$%. For y_exact[1] enter the value you computed by hand when you solved the ode. Express to 2 decimal places."
      ]
    },
    {
      "cell_type": "code",
      "execution_count": null,
      "id": "a9f9fd89-f406-40d5-ac31-687315af00dc",
      "metadata": {
        "id": "a9f9fd89-f406-40d5-ac31-687315af00dc"
      },
      "outputs": [],
      "source": [
        "# Using the improved Euler method the % error when computing y(1) is:\n",
        "error = np.abs(y_exact[1]-y_improved[1])/y_exact[1]*100\n",
        "print(f\"The percent error is {round(error,2)}%.\")"
      ]
    },
    {
      "cell_type": "markdown",
      "id": "95cee1d7-dd8a-4517-9d44-48b9c6e9f0d6",
      "metadata": {
        "id": "95cee1d7-dd8a-4517-9d44-48b9c6e9f0d6"
      },
      "source": [
        "<h4> Execute the cell below to see a plot of the comparison between y_exact and y_improved. Look closely the curves could lie on top of one another."
      ]
    },
    {
      "cell_type": "code",
      "execution_count": null,
      "id": "d700b2d3-f1c4-42bf-8cc7-1bcf057507a7",
      "metadata": {
        "id": "d700b2d3-f1c4-42bf-8cc7-1bcf057507a7"
      },
      "outputs": [],
      "source": [
        "plt.figure(figsize=(8,6))\n",
        "plt.plot(t,y_improved,'.')\n",
        "plt.plot(t,y_improved,label='improved')\n",
        "\n",
        "plt.plot(t,y_exact,label='exact')\n",
        "plt.legend();\n",
        "plt.grid()\n",
        "plt.xlabel(\"t\")\n",
        "plt.ylabel(\"y\")\n",
        "plt.title(\"Euler's Method\");\n",
        "\n",
        "# To save a copy of the plot to a file uncomment the following.  Note you must have your drive mounted.\n",
        "#plt.savefig(\"euler.png\",dpi=300)"
      ]
    },
    {
      "cell_type": "markdown",
      "id": "8ae175fb-31e1-45b3-bff0-697df1cf7986",
      "metadata": {
        "id": "8ae175fb-31e1-45b3-bff0-697df1cf7986"
      },
      "source": [
        "<hr>\n",
        "\n",
        "## Exercise #3\n",
        "\n",
        "For the final exercise you are to use the improved Euler’s method to obtain the approximate value of y(1.5) for the solution of the initial value problem\n",
        "\n",
        "$$y ' = 2 xy, y(1) = 1$$\n",
        "\n",
        "Use h = 0.1. Analytically compute the exact value and compute the percent error.\n"
      ]
    },
    {
      "cell_type": "code",
      "execution_count": null,
      "id": "9ff084c0-5a0b-45b8-8b10-065f7f3e58d9",
      "metadata": {
        "id": "9ff084c0-5a0b-45b8-8b10-065f7f3e58d9"
      },
      "outputs": [],
      "source": [
        "# In this cell enter the necessary code to compute y(1.5) using the improved Euler's method. Hint: copy your previous code to this cell and edit it\n",
        "# accordingly\n",
        "\n",
        "\n",
        "\n"
      ]
    },
    {
      "cell_type": "markdown",
      "id": "5ddc0ead-3082-49cf-af2a-e0a92e17d29d",
      "metadata": {
        "id": "5ddc0ead-3082-49cf-af2a-e0a92e17d29d"
      },
      "source": [
        "### Next solve the ode and determine the value y(1.5)\n",
        "This step is not done using python.  Here you have to solve the ode.  Note this equation is separable."
      ]
    },
    {
      "cell_type": "code",
      "execution_count": null,
      "id": "45ab86c5-1eec-4bee-96e6-88da1308a27e",
      "metadata": {
        "id": "45ab86c5-1eec-4bee-96e6-88da1308a27e"
      },
      "outputs": [],
      "source": [
        "# Enter the necessary code in this cell to compute the percent error and display the % error for the previous problem.  Copy and edit the code\n",
        "# used earlier\n",
        "\n",
        "\n",
        "\n",
        "\n",
        "\n",
        "\n"
      ]
    },
    {
      "cell_type": "markdown",
      "id": "9fd8de00-3d6f-40e1-8188-07bccea51963",
      "metadata": {
        "id": "9fd8de00-3d6f-40e1-8188-07bccea51963"
      },
      "source": [
        "Finally when done share this notebook with ....  rm908@email.vccs.edu\n"
      ]
    },
    {
      "cell_type": "code",
      "execution_count": null,
      "id": "e78a18a4-876d-47e5-b6dd-644a3dd099b0",
      "metadata": {
        "id": "e78a18a4-876d-47e5-b6dd-644a3dd099b0"
      },
      "outputs": [],
      "source": [
        ""
      ]
    }
  ],
  "metadata": {
    "kernelspec": {
      "display_name": "Python 3",
      "language": "python",
      "name": "python3"
    },
    "language_info": {
      "codemirror_mode": {
        "name": "ipython",
        "version": 3
      },
      "file_extension": ".py",
      "mimetype": "text/x-python",
      "name": "python",
      "nbconvert_exporter": "python",
      "pygments_lexer": "ipython3",
      "version": "3.7.10"
    },
    "colab": {
      "name": "project#1_soln.ipynb",
      "provenance": [],
      "collapsed_sections": [],
      "include_colab_link": true
    }
  },
  "nbformat": 4,
  "nbformat_minor": 5
}