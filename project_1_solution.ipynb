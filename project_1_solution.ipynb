{
 "cells": [
  {
   "cell_type": "markdown",
   "id": "d74f86a2-6358-4d76-8c1d-6f8485e17691",
   "metadata": {
    "id": "d74f86a2-6358-4d76-8c1d-6f8485e17691"
   },
   "source": [
    "<h1 style='font-size:4rem;color:orange;'>Math 267 Project #1"
   ]
  },
  {
   "cell_type": "markdown",
   "id": "dee32312-512c-4fbd-a32e-fd1717b7f487",
   "metadata": {
    "id": "dee32312-512c-4fbd-a32e-fd1717b7f487"
   },
   "source": [
    " **Solution notebook**                                             "
   ]
  },
  {
   "cell_type": "markdown",
   "id": "2f7c49dc-b818-455d-ac33-42e0e86458c0",
   "metadata": {
    "id": "2f7c49dc-b818-455d-ac33-42e0e86458c0"
   },
   "source": [
    "<hr>\n",
    "In this jupyter/colab notebook we will show how to implement Euler's method using the python programming language. The emphasis will be more on code readability than efficiency.\n",
    "\n",
    "Your instructions.\n",
    "\n",
    "Make a copy of this notebook on your local drive. Rename the notebook \"project#1_lastname.ipynb\". Edit the cell above to enter your name and student ID. Read and execute each cell below.  Complete all exercises. Once done you will share this notebook with  rm908@email.vccs.edu\n",
    "<hr>"
   ]
  },
  {
   "cell_type": "markdown",
   "id": "5f57cb7a-395a-40e7-8c5f-e2bb328f4a5b",
   "metadata": {
    "id": "5f57cb7a-395a-40e7-8c5f-e2bb328f4a5b"
   },
   "source": [
    "# Euler's Method\n",
    "\n",
    "The ability to obtain a formulaic solution for an ODE is the exception rather than the rule. The majority\n",
    "of the time we resort to finding a “numerical solution” where the time axis is discretized. The numerical\n",
    "solution will yield a list of points {(t0, y0), (t1, y2), (t3, y3), (t4, y4) ... ....} which ideally lie along the solution\n",
    "curve. Please consult section 2.6 in the text  for further details on  Euler’s method.\n",
    "\n",
    "Now to solve the initial value problem:\n",
    "\n",
    "$$y'=f(t,y)$$\n",
    "$$y(t_0)=y_0$$\n",
    "\n",
    "using Euler's method we simply iterate the following:\n",
    "\n",
    "$$t_{n+1} = t_n + \\Delta t$$\n",
    "$$y_{n+1} = y_n + f(t_n,y_n)\\cdot \\Delta t$$\n",
    "\n",
    "where $\\Delta t$ is the \"step size\". We often use the letter \"h\" to represent the step size. Also recall that $f(t,y)$ is the \"slope field\" for the differential equation. Also note for this example that the letter \"y\" is being used to represent the dependent variable and \"t\" for the indepentent varialbe.\n",
    "<hr>"
   ]
  },
  {
   "cell_type": "markdown",
   "id": "2f41e0c4-6749-4812-a269-0ed273d24535",
   "metadata": {
    "id": "2f41e0c4-6749-4812-a269-0ed273d24535"
   },
   "source": [
    "## Exercise #1\n",
    "\n",
    "<h3> For our first exercise we use Euler's method to solve the following initial value problem.\n",
    "<br><br>\n",
    "$$y' = -y +t$$\n",
    "$$y(0) = 0.5$$\n",
    "\n",
    "<h3> Solve on interval $[0,1.2]$ and use h = 0.1.\n"
   ]
  },
  {
   "cell_type": "markdown",
   "id": "a718fb4d-f2e6-4b86-8a8a-3c565d5f8ded",
   "metadata": {
    "id": "a718fb4d-f2e6-4b86-8a8a-3c565d5f8ded"
   },
   "source": [
    "Execute the cell below to import necessary libraries"
   ]
  },
  {
   "cell_type": "code",
   "execution_count": null,
   "id": "f52331cb-8777-4d71-b19e-b0e890ccf61a",
   "metadata": {
    "id": "f52331cb-8777-4d71-b19e-b0e890ccf61a"
   },
   "outputs": [],
   "source": [
    "# import libraries\n",
    "\n",
    "import numpy as np\n",
    "import pandas as pd\n",
    "import matplotlib.pyplot as plt\n",
    "# uncomment the line below if you are running a macbook\n",
    "from IPython import display\n",
    "%config InlineBackend.figure_format ='retina'"
   ]
  },
  {
   "cell_type": "markdown",
   "id": "38e9983e-6752-4225-a966-a8eac52b45ca",
   "metadata": {
    "id": "38e9983e-6752-4225-a966-a8eac52b45ca"
   },
   "source": [
    "<h3> The python code to numerically solve the above ode is in the cell below. Read the code and understand each instruction.\n",
    "    Afterwards execute the cell."
   ]
  },
  {
   "cell_type": "code",
   "execution_count": null,
   "id": "62012841-ba51-4f32-9083-0e1308bc1664",
   "metadata": {
    "id": "62012841-ba51-4f32-9083-0e1308bc1664"
   },
   "outputs": [],
   "source": [
    "# define slope function\n",
    "\n",
    "def f(t,y):\n",
    "    return -y + t\n",
    "\n",
    "h = 0.1\n",
    "\n",
    "# We first \"discretize\" the domain.  The array t holds the t values\n",
    "\n",
    "t = np.arange(0,1.3,h) \n",
    "y_euler = np.zeros_like(t)  # initialize y array to zeros\n",
    "y_euler[0] = 0.5 # set the intial value\n",
    "\n",
    "# implement Euler's method\n",
    "\n",
    "for i in range(len(y_euler)-1):\n",
    "    y_euler[i+1] = y_euler[i] + f(t[i],y_euler[i])* h\n",
    "    "
   ]
  },
  {
   "cell_type": "markdown",
   "id": "ee76fb6a-94fe-4e67-902b-ed6b3144da44",
   "metadata": {
    "id": "ee76fb6a-94fe-4e67-902b-ed6b3144da44"
   },
   "source": [
    "<h3> Let us visualize results.\n",
    " To visualize the results in table form execute the following cell."
   ]
  },
  {
   "cell_type": "code",
   "execution_count": null,
   "id": "83a57db4-beb6-4b04-bee2-1a5e67af480d",
   "metadata": {
    "colab": {
     "base_uri": "https://localhost:8080/",
     "height": 457
    },
    "id": "83a57db4-beb6-4b04-bee2-1a5e67af480d",
    "outputId": "8f8258b2-abe9-4392-bf14-fdaa5e290f10"
   },
   "outputs": [
    {
     "data": {
      "text/html": [
       "\n",
       "  <div id=\"df-f7c24174-2cab-4039-baaa-c63dc34b024d\">\n",
       "    <div class=\"colab-df-container\">\n",
       "      <div>\n",
       "<style scoped>\n",
       "    .dataframe tbody tr th:only-of-type {\n",
       "        vertical-align: middle;\n",
       "    }\n",
       "\n",
       "    .dataframe tbody tr th {\n",
       "        vertical-align: top;\n",
       "    }\n",
       "\n",
       "    .dataframe thead th {\n",
       "        text-align: right;\n",
       "    }\n",
       "</style>\n",
       "<table border=\"1\" class=\"dataframe\">\n",
       "  <thead>\n",
       "    <tr style=\"text-align: right;\">\n",
       "      <th></th>\n",
       "      <th>t</th>\n",
       "      <th>y_exact</th>\n",
       "      <th>y_Euler</th>\n",
       "    </tr>\n",
       "  </thead>\n",
       "  <tbody>\n",
       "    <tr>\n",
       "      <th>0</th>\n",
       "      <td>0.0</td>\n",
       "      <td>0.500000</td>\n",
       "      <td>0.500000</td>\n",
       "    </tr>\n",
       "    <tr>\n",
       "      <th>1</th>\n",
       "      <td>0.1</td>\n",
       "      <td>0.457256</td>\n",
       "      <td>0.450000</td>\n",
       "    </tr>\n",
       "    <tr>\n",
       "      <th>2</th>\n",
       "      <td>0.2</td>\n",
       "      <td>0.428096</td>\n",
       "      <td>0.415000</td>\n",
       "    </tr>\n",
       "    <tr>\n",
       "      <th>3</th>\n",
       "      <td>0.3</td>\n",
       "      <td>0.411227</td>\n",
       "      <td>0.393500</td>\n",
       "    </tr>\n",
       "    <tr>\n",
       "      <th>4</th>\n",
       "      <td>0.4</td>\n",
       "      <td>0.405480</td>\n",
       "      <td>0.384150</td>\n",
       "    </tr>\n",
       "    <tr>\n",
       "      <th>5</th>\n",
       "      <td>0.5</td>\n",
       "      <td>0.409796</td>\n",
       "      <td>0.385735</td>\n",
       "    </tr>\n",
       "    <tr>\n",
       "      <th>6</th>\n",
       "      <td>0.6</td>\n",
       "      <td>0.423217</td>\n",
       "      <td>0.397162</td>\n",
       "    </tr>\n",
       "    <tr>\n",
       "      <th>7</th>\n",
       "      <td>0.7</td>\n",
       "      <td>0.444878</td>\n",
       "      <td>0.417445</td>\n",
       "    </tr>\n",
       "    <tr>\n",
       "      <th>8</th>\n",
       "      <td>0.8</td>\n",
       "      <td>0.473993</td>\n",
       "      <td>0.445701</td>\n",
       "    </tr>\n",
       "    <tr>\n",
       "      <th>9</th>\n",
       "      <td>0.9</td>\n",
       "      <td>0.509854</td>\n",
       "      <td>0.481131</td>\n",
       "    </tr>\n",
       "    <tr>\n",
       "      <th>10</th>\n",
       "      <td>1.0</td>\n",
       "      <td>0.551819</td>\n",
       "      <td>0.523018</td>\n",
       "    </tr>\n",
       "    <tr>\n",
       "      <th>11</th>\n",
       "      <td>1.1</td>\n",
       "      <td>0.599307</td>\n",
       "      <td>0.570716</td>\n",
       "    </tr>\n",
       "    <tr>\n",
       "      <th>12</th>\n",
       "      <td>1.2</td>\n",
       "      <td>0.651791</td>\n",
       "      <td>0.623644</td>\n",
       "    </tr>\n",
       "  </tbody>\n",
       "</table>\n",
       "</div>\n",
       "      <button class=\"colab-df-convert\" onclick=\"convertToInteractive('df-f7c24174-2cab-4039-baaa-c63dc34b024d')\"\n",
       "              title=\"Convert this dataframe to an interactive table.\"\n",
       "              style=\"display:none;\">\n",
       "        \n",
       "  <svg xmlns=\"http://www.w3.org/2000/svg\" height=\"24px\"viewBox=\"0 0 24 24\"\n",
       "       width=\"24px\">\n",
       "    <path d=\"M0 0h24v24H0V0z\" fill=\"none\"/>\n",
       "    <path d=\"M18.56 5.44l.94 2.06.94-2.06 2.06-.94-2.06-.94-.94-2.06-.94 2.06-2.06.94zm-11 1L8.5 8.5l.94-2.06 2.06-.94-2.06-.94L8.5 2.5l-.94 2.06-2.06.94zm10 10l.94 2.06.94-2.06 2.06-.94-2.06-.94-.94-2.06-.94 2.06-2.06.94z\"/><path d=\"M17.41 7.96l-1.37-1.37c-.4-.4-.92-.59-1.43-.59-.52 0-1.04.2-1.43.59L10.3 9.45l-7.72 7.72c-.78.78-.78 2.05 0 2.83L4 21.41c.39.39.9.59 1.41.59.51 0 1.02-.2 1.41-.59l7.78-7.78 2.81-2.81c.8-.78.8-2.07 0-2.86zM5.41 20L4 18.59l7.72-7.72 1.47 1.35L5.41 20z\"/>\n",
       "  </svg>\n",
       "      </button>\n",
       "      \n",
       "  <style>\n",
       "    .colab-df-container {\n",
       "      display:flex;\n",
       "      flex-wrap:wrap;\n",
       "      gap: 12px;\n",
       "    }\n",
       "\n",
       "    .colab-df-convert {\n",
       "      background-color: #E8F0FE;\n",
       "      border: none;\n",
       "      border-radius: 50%;\n",
       "      cursor: pointer;\n",
       "      display: none;\n",
       "      fill: #1967D2;\n",
       "      height: 32px;\n",
       "      padding: 0 0 0 0;\n",
       "      width: 32px;\n",
       "    }\n",
       "\n",
       "    .colab-df-convert:hover {\n",
       "      background-color: #E2EBFA;\n",
       "      box-shadow: 0px 1px 2px rgba(60, 64, 67, 0.3), 0px 1px 3px 1px rgba(60, 64, 67, 0.15);\n",
       "      fill: #174EA6;\n",
       "    }\n",
       "\n",
       "    [theme=dark] .colab-df-convert {\n",
       "      background-color: #3B4455;\n",
       "      fill: #D2E3FC;\n",
       "    }\n",
       "\n",
       "    [theme=dark] .colab-df-convert:hover {\n",
       "      background-color: #434B5C;\n",
       "      box-shadow: 0px 1px 3px 1px rgba(0, 0, 0, 0.15);\n",
       "      filter: drop-shadow(0px 1px 2px rgba(0, 0, 0, 0.3));\n",
       "      fill: #FFFFFF;\n",
       "    }\n",
       "  </style>\n",
       "\n",
       "      <script>\n",
       "        const buttonEl =\n",
       "          document.querySelector('#df-f7c24174-2cab-4039-baaa-c63dc34b024d button.colab-df-convert');\n",
       "        buttonEl.style.display =\n",
       "          google.colab.kernel.accessAllowed ? 'block' : 'none';\n",
       "\n",
       "        async function convertToInteractive(key) {\n",
       "          const element = document.querySelector('#df-f7c24174-2cab-4039-baaa-c63dc34b024d');\n",
       "          const dataTable =\n",
       "            await google.colab.kernel.invokeFunction('convertToInteractive',\n",
       "                                                     [key], {});\n",
       "          if (!dataTable) return;\n",
       "\n",
       "          const docLinkHtml = 'Like what you see? Visit the ' +\n",
       "            '<a target=\"_blank\" href=https://colab.research.google.com/notebooks/data_table.ipynb>data table notebook</a>'\n",
       "            + ' to learn more about interactive tables.';\n",
       "          element.innerHTML = '';\n",
       "          dataTable['output_type'] = 'display_data';\n",
       "          await google.colab.output.renderOutput(dataTable, element);\n",
       "          const docLink = document.createElement('div');\n",
       "          docLink.innerHTML = docLinkHtml;\n",
       "          element.appendChild(docLink);\n",
       "        }\n",
       "      </script>\n",
       "    </div>\n",
       "  </div>\n",
       "  "
      ],
      "text/plain": [
       "      t   y_exact   y_Euler\n",
       "0   0.0  0.500000  0.500000\n",
       "1   0.1  0.457256  0.450000\n",
       "2   0.2  0.428096  0.415000\n",
       "3   0.3  0.411227  0.393500\n",
       "4   0.4  0.405480  0.384150\n",
       "5   0.5  0.409796  0.385735\n",
       "6   0.6  0.423217  0.397162\n",
       "7   0.7  0.444878  0.417445\n",
       "8   0.8  0.473993  0.445701\n",
       "9   0.9  0.509854  0.481131\n",
       "10  1.0  0.551819  0.523018\n",
       "11  1.1  0.599307  0.570716\n",
       "12  1.2  0.651791  0.623644"
      ]
     },
     "execution_count": 11,
     "metadata": {},
     "output_type": "execute_result"
    }
   ],
   "source": [
    "# the exact solution of the ode is defined by the function below\n",
    "\n",
    "def y_e(t):\n",
    "    return 1.5*np.exp(-t)-1+t\n",
    "\n",
    "y_exact = y_e(t) # compute exact values\n",
    "\n",
    "# Now display results in a table\n",
    "\n",
    "df = pd.DataFrame({\"t\":t,\"y_exact\":y_exact,\"y_Euler\":y_euler})\n",
    "df"
   ]
  },
  {
   "cell_type": "markdown",
   "id": "f77807c8-4f14-4924-a488-d7b2f70af43a",
   "metadata": {
    "id": "f77807c8-4f14-4924-a488-d7b2f70af43a"
   },
   "source": [
    "<hr>\n",
    "<h3> To compute percent error for our results we use the formula:\n",
    "<br><br>\n",
    "\n",
    "$$ \\frac{(y_{exact} - y_{euler})}{y_{exact}}\\times100\\%  $$\n",
    "\n",
    " Execute the following cell to compute and display the percent error in approximating $y(1)$ for the previous example. You should see an error of about 1.6%."
   ]
  },
  {
   "cell_type": "code",
   "execution_count": null,
   "id": "0690b04f-fbb4-47b1-8500-35612ed9f470",
   "metadata": {
    "colab": {
     "base_uri": "https://localhost:8080/"
    },
    "id": "0690b04f-fbb4-47b1-8500-35612ed9f470",
    "outputId": "6af7fce3-29cf-4109-b6d0-6dacca2a76e3"
   },
   "outputs": [
    {
     "name": "stdout",
     "output_type": "stream",
     "text": [
      "The percent error using h = 0.1 is 1.59%.\n"
     ]
    }
   ],
   "source": [
    "# For the above ode the % difference when computing y(1) is:\n",
    "error = np.abs(y_exact[1]-y_euler[1])/y_exact[1]*100\n",
    "print(f\"The percent error using h = {h} is {round(error,2)}%.\")"
   ]
  },
  {
   "cell_type": "markdown",
   "id": "d30b4d8d-fc94-449f-8216-cceaf741a652",
   "metadata": {
    "id": "d30b4d8d-fc94-449f-8216-cceaf741a652"
   },
   "source": [
    "<h3> Exercise 1.a\n",
    "\n",
    "<h4> One way to improve the result is by decreasing the value of h. Go back and reexecute the code in all the previous cells  with h changed to 0.05. \n",
    "<hr>"
   ]
  },
  {
   "cell_type": "markdown",
   "id": "bbfb3898-aa7b-4409-ac19-89002038e279",
   "metadata": {
    "id": "bbfb3898-aa7b-4409-ac19-89002038e279"
   },
   "source": [
    "Edit the text cell below to record your results.\n",
    "You need to select and edit this cell.\n",
    "\n",
    " h = 0.1     percent error = 1.59%\n",
    " \n",
    " h = 0.05     percent error = 0.39%\n",
    "\n",
    "\n"
   ]
  },
  {
   "cell_type": "markdown",
   "id": "d6a4d73a-a3f2-4d38-8008-12f77559185a",
   "metadata": {
    "id": "d6a4d73a-a3f2-4d38-8008-12f77559185a"
   },
   "source": [
    "<hr>\n",
    "\n",
    "<h3> Now reset the value of h back to h=.1 and reexecute the cells so we can graph our results.\n",
    "\n"
   ]
  },
  {
   "cell_type": "markdown",
   "id": "00f361b3-f17c-45d6-9e94-30de1e04f828",
   "metadata": {
    "id": "00f361b3-f17c-45d6-9e94-30de1e04f828"
   },
   "source": [
    "<h3> Plot the results\n",
    "<h4> The code in the cell below will make a plot of the exact and approximate solutions. Execute the cell and study the graph."
   ]
  },
  {
   "cell_type": "code",
   "execution_count": null,
   "id": "05bb58c4-6706-4e17-b80d-208fd8f1ec96",
   "metadata": {
    "colab": {
     "base_uri": "https://localhost:8080/",
     "height": 403
    },
    "id": "05bb58c4-6706-4e17-b80d-208fd8f1ec96",
    "outputId": "e738bf8f-cc80-4f5d-8771-b78b0ca0ac8a"
   },
   "outputs": [
    {
     "data": {
      "image/png": "[encoded data removed]",
      "text/plain": [
       "<Figure size 576x432 with 1 Axes>"
      ]
     },
     "metadata": {
      "image/png": {
       "height": 386,
       "width": 503
      },
      "needs_background": "light"
     },
     "output_type": "display_data"
    }
   ],
   "source": [
    "plt.figure(figsize=(8,6))\n",
    "plt.plot(t,y_euler,'.')\n",
    "plt.plot(t,y_euler,label='approx')\n",
    "\n",
    "plt.plot(t,y_exact,label='exact')\n",
    "plt.legend();\n",
    "plt.grid()\n",
    "plt.xlabel(\"t\")\n",
    "plt.ylabel(\"y\")\n",
    "plt.title(\"Euler's Method\");\n",
    "\n",
    "# To save a copy of the plot to a file uncomment the following.  Note you must have your drive mounted.\n",
    "#plt.savefig(\"euler.png\",dpi=300)"
   ]
  },
  {
   "cell_type": "markdown",
   "id": "56cb2969-2f02-4682-a874-c9149eb873b7",
   "metadata": {
    "id": "56cb2969-2f02-4682-a874-c9149eb873b7"
   },
   "source": [
    "<hr>\n",
    "\n",
    "# Improved Euler's Method"
   ]
  },
  {
   "cell_type": "markdown",
   "id": "908eb0ba-6ece-4178-a1c5-b0a46200b0d0",
   "metadata": {
    "id": "908eb0ba-6ece-4178-a1c5-b0a46200b0d0"
   },
   "source": [
    "Euler’s method, while nice in its simplicity, is too inaccurate and slow for practical use. Euler’s method predicts the next point $(t_{n+1},y_{n+1})$ on the solution curve by computing the slope $f (t, y)$ of the solution curve at the point $(t_n,y_n)$, this is determined by evaluating the slope field at that point -- slope =\n",
    "$f(t_n, y_n)$.\n",
    "The improved Euler’s method predicts the next point by computing two slopes and using their average as our final slope value. The two slopes computed are\n",
    "slope1 = $f (t_n, y_n)$ and slope2 = $f (t_{n+1}, y^*_{n+1})$ . Thus we first need to predict the next value $y^*_{n+1}$ using the\n",
    "standard Euler procedure. Next slope2, the estimation of the slope at the end point of the interval $[t_n, t_{n+1}]$ is computed. Finally we compute our ultimate estimation for the slope by taking the average of the two: slope = (f (tn, yn) + f (tn+1, y*n+1) / 2. This slope then is used to determine the next point in our solution$(t_{n+1}, y_{n+1})$ and the steps are repeated."
   ]
  },
  {
   "cell_type": "markdown",
   "id": "84e0a7b9-6920-4375-8dd5-e26780f6c7a9",
   "metadata": {
    "id": "84e0a7b9-6920-4375-8dd5-e26780f6c7a9"
   },
   "source": [
    "The iteration formulas for the improved Euler's method are thus given by:\n",
    "\n",
    "$$t_{n+1} = t_n + \\Delta t$$\n",
    "\n",
    "$$y_{n+1} = y_n + \\frac{(f(t_n,y_n)+f(t_{n+1},y^*_{n+1}))}{2}\\cdot \\Delta t$$\n",
    "\n",
    "where\n",
    "$$y^*_{n+1} = y_n +f(t_n,y_n)\\cdot \\Delta t$$\n",
    "\n",
    "<hr>\n"
   ]
  },
  {
   "cell_type": "markdown",
   "id": "9fd41766-9424-4137-b325-91271910e7a8",
   "metadata": {
    "id": "9fd41766-9424-4137-b325-91271910e7a8"
   },
   "source": [
    "<h3> Exercise #2\n",
    "\n",
    " For our second exercise we will use  the impoved Euler's method to solve the following initial value problem.\n",
    "\n",
    "$$y' = -y +t$$\n",
    "$$y(0) = 0.5$$\n",
    "\n",
    " Solve on interval $[0,1.2]$ and use h = 0.1.\n",
    "\n",
    "\n",
    "<hr>"
   ]
  },
  {
   "cell_type": "markdown",
   "id": "ddc7696e-0890-47bc-98d6-788a79f9d188",
   "metadata": {
    "id": "ddc7696e-0890-47bc-98d6-788a79f9d188"
   },
   "source": [
    "The suggested algorithm for implementing the improved Euler method is:\n",
    "\n",
    "1. Define the slope function.\n",
    "2. Set the value of h.\n",
    "3. Intialize the array of time values. We call the array \"t\".\n",
    "4. Intialize the y_improved array to zeros.\n",
    "5. Set the initial condition for y_improved.\n",
    "6. Repeat the following:<br>\n",
    "\n",
    "Compute slope1 using slope1= $ f(t_n,y_n) $ <br>\n",
    "Compute $y^*_{n+1}$ <br>\n",
    "Compute slope2 using slope2=$f(t_{n+1},y^*_{n+1})$<br>\n",
    "Define slope = (slope1+slope2)/2<br>\n",
    "Compute $y_{n+1}=y_n+\\text{slope} \\cdot h$\n",
    "<hr>\n",
    "\n"
   ]
  },
  {
   "cell_type": "markdown",
   "id": "ceb96957-8098-4256-bb04-4b98bb481c26",
   "metadata": {
    "id": "ceb96957-8098-4256-bb04-4b98bb481c26"
   },
   "source": [
    "<h3>  Exercise 2.a\n"
   ]
  },
  {
   "cell_type": "markdown",
   "id": "73b8328b-92d0-4973-add8-1065ef55a981",
   "metadata": {
    "id": "73b8328b-92d0-4973-add8-1065ef55a981"
   },
   "source": [
    "<h4> The code that implements Euler's method is copied in the cell below. Edit this code to implement the improved Euler method (Use the algorithm above). Note you need to rename the variable y_euler to y_improved."
   ]
  },
  {
   "cell_type": "code",
   "execution_count": null,
   "id": "loW-WZ1bDmMW",
   "metadata": {
    "id": "loW-WZ1bDmMW"
   },
   "outputs": [],
   "source": [
    "# define slope function\n",
    "\n",
    "def f(t,y):\n",
    "    return -y + t\n",
    "\n",
    "h = 0.1\n",
    "\n",
    "\n",
    "# We first \"discretize\" the domain.  The array t holds the t values\n",
    "\n",
    "t = np.arange(0,1.3,h) \n",
    "\n",
    "y_improved = np.zeros_like(t)  # initialize y array to zeros\n",
    "y_improved[0] = 0.5 # set the intial value\n",
    "\n",
    "# implement Euler's method\n",
    "\n",
    "\n",
    "for i in range(len(y_euler)-1):\n",
    "    slope1 = f(t[i],y_improved[i])\n",
    "    y_temp = y_improved[i]+slope1*h\n",
    "    slope2= f(t[i+1],y_temp)\n",
    "    slope = (slope1+slope2)/2\n",
    "    y_improved[i+1] = y_improved[i] + slope * h"
   ]
  },
  {
   "cell_type": "markdown",
   "id": "05aa7435-358e-4979-895b-20a538225156",
   "metadata": {
    "id": "05aa7435-358e-4979-895b-20a538225156"
   },
   "source": [
    "<h4> Now let us see the results in table form.  Execute the cell below. You should see a table with 4 columns. If you get an error try to troubleshoot.\n",
    "    If necessary you can share the notebook with me and I will help."
   ]
  },
  {
   "cell_type": "code",
   "execution_count": null,
   "id": "c2f28755-816a-4a50-bc14-f4b0a3af7fe0",
   "metadata": {
    "colab": {
     "base_uri": "https://localhost:8080/",
     "height": 457
    },
    "id": "c2f28755-816a-4a50-bc14-f4b0a3af7fe0",
    "outputId": "ceaa05fb-0678-4841-cf14-18e1c6e4df35"
   },
   "outputs": [
    {
     "data": {
      "text/html": [
       "\n",
       "  <div id=\"df-76af71dd-7849-4ab4-ade1-c985dc08958d\">\n",
       "    <div class=\"colab-df-container\">\n",
       "      <div>\n",
       "<style scoped>\n",
       "    .dataframe tbody tr th:only-of-type {\n",
       "        vertical-align: middle;\n",
       "    }\n",
       "\n",
       "    .dataframe tbody tr th {\n",
       "        vertical-align: top;\n",
       "    }\n",
       "\n",
       "    .dataframe thead th {\n",
       "        text-align: right;\n",
       "    }\n",
       "</style>\n",
       "<table border=\"1\" class=\"dataframe\">\n",
       "  <thead>\n",
       "    <tr style=\"text-align: right;\">\n",
       "      <th></th>\n",
       "      <th>t</th>\n",
       "      <th>y_exact</th>\n",
       "      <th>y_Euler</th>\n",
       "      <th>y_Impoved</th>\n",
       "    </tr>\n",
       "  </thead>\n",
       "  <tbody>\n",
       "    <tr>\n",
       "      <th>0</th>\n",
       "      <td>0.0</td>\n",
       "      <td>0.500000</td>\n",
       "      <td>0.500000</td>\n",
       "      <td>0.500000</td>\n",
       "    </tr>\n",
       "    <tr>\n",
       "      <th>1</th>\n",
       "      <td>0.1</td>\n",
       "      <td>0.457256</td>\n",
       "      <td>0.450000</td>\n",
       "      <td>0.457500</td>\n",
       "    </tr>\n",
       "    <tr>\n",
       "      <th>2</th>\n",
       "      <td>0.2</td>\n",
       "      <td>0.428096</td>\n",
       "      <td>0.415000</td>\n",
       "      <td>0.428538</td>\n",
       "    </tr>\n",
       "    <tr>\n",
       "      <th>3</th>\n",
       "      <td>0.3</td>\n",
       "      <td>0.411227</td>\n",
       "      <td>0.393500</td>\n",
       "      <td>0.411826</td>\n",
       "    </tr>\n",
       "    <tr>\n",
       "      <th>4</th>\n",
       "      <td>0.4</td>\n",
       "      <td>0.405480</td>\n",
       "      <td>0.384150</td>\n",
       "      <td>0.406203</td>\n",
       "    </tr>\n",
       "    <tr>\n",
       "      <th>5</th>\n",
       "      <td>0.5</td>\n",
       "      <td>0.409796</td>\n",
       "      <td>0.385735</td>\n",
       "      <td>0.410614</td>\n",
       "    </tr>\n",
       "    <tr>\n",
       "      <th>6</th>\n",
       "      <td>0.6</td>\n",
       "      <td>0.423217</td>\n",
       "      <td>0.397162</td>\n",
       "      <td>0.424105</td>\n",
       "    </tr>\n",
       "    <tr>\n",
       "      <th>7</th>\n",
       "      <td>0.7</td>\n",
       "      <td>0.444878</td>\n",
       "      <td>0.417445</td>\n",
       "      <td>0.445815</td>\n",
       "    </tr>\n",
       "    <tr>\n",
       "      <th>8</th>\n",
       "      <td>0.8</td>\n",
       "      <td>0.473993</td>\n",
       "      <td>0.445701</td>\n",
       "      <td>0.474963</td>\n",
       "    </tr>\n",
       "    <tr>\n",
       "      <th>9</th>\n",
       "      <td>0.9</td>\n",
       "      <td>0.509854</td>\n",
       "      <td>0.481131</td>\n",
       "      <td>0.510841</td>\n",
       "    </tr>\n",
       "    <tr>\n",
       "      <th>10</th>\n",
       "      <td>1.0</td>\n",
       "      <td>0.551819</td>\n",
       "      <td>0.523018</td>\n",
       "      <td>0.552811</td>\n",
       "    </tr>\n",
       "    <tr>\n",
       "      <th>11</th>\n",
       "      <td>1.1</td>\n",
       "      <td>0.599307</td>\n",
       "      <td>0.570716</td>\n",
       "      <td>0.600294</td>\n",
       "    </tr>\n",
       "    <tr>\n",
       "      <th>12</th>\n",
       "      <td>1.2</td>\n",
       "      <td>0.651791</td>\n",
       "      <td>0.623644</td>\n",
       "      <td>0.652766</td>\n",
       "    </tr>\n",
       "  </tbody>\n",
       "</table>\n",
       "</div>\n",
       "      <button class=\"colab-df-convert\" onclick=\"convertToInteractive('df-76af71dd-7849-4ab4-ade1-c985dc08958d')\"\n",
       "              title=\"Convert this dataframe to an interactive table.\"\n",
       "              style=\"display:none;\">\n",
       "        \n",
       "  <svg xmlns=\"http://www.w3.org/2000/svg\" height=\"24px\"viewBox=\"0 0 24 24\"\n",
       "       width=\"24px\">\n",
       "    <path d=\"M0 0h24v24H0V0z\" fill=\"none\"/>\n",
       "    <path d=\"M18.56 5.44l.94 2.06.94-2.06 2.06-.94-2.06-.94-.94-2.06-.94 2.06-2.06.94zm-11 1L8.5 8.5l.94-2.06 2.06-.94-2.06-.94L8.5 2.5l-.94 2.06-2.06.94zm10 10l.94 2.06.94-2.06 2.06-.94-2.06-.94-.94-2.06-.94 2.06-2.06.94z\"/><path d=\"M17.41 7.96l-1.37-1.37c-.4-.4-.92-.59-1.43-.59-.52 0-1.04.2-1.43.59L10.3 9.45l-7.72 7.72c-.78.78-.78 2.05 0 2.83L4 21.41c.39.39.9.59 1.41.59.51 0 1.02-.2 1.41-.59l7.78-7.78 2.81-2.81c.8-.78.8-2.07 0-2.86zM5.41 20L4 18.59l7.72-7.72 1.47 1.35L5.41 20z\"/>\n",
       "  </svg>\n",
       "      </button>\n",
       "      \n",
       "  <style>\n",
       "    .colab-df-container {\n",
       "      display:flex;\n",
       "      flex-wrap:wrap;\n",
       "      gap: 12px;\n",
       "    }\n",
       "\n",
       "    .colab-df-convert {\n",
       "      background-color: #E8F0FE;\n",
       "      border: none;\n",
       "      border-radius: 50%;\n",
       "      cursor: pointer;\n",
       "      display: none;\n",
       "      fill: #1967D2;\n",
       "      height: 32px;\n",
       "      padding: 0 0 0 0;\n",
       "      width: 32px;\n",
       "    }\n",
       "\n",
       "    .colab-df-convert:hover {\n",
       "      background-color: #E2EBFA;\n",
       "      box-shadow: 0px 1px 2px rgba(60, 64, 67, 0.3), 0px 1px 3px 1px rgba(60, 64, 67, 0.15);\n",
       "      fill: #174EA6;\n",
       "    }\n",
       "\n",
       "    [theme=dark] .colab-df-convert {\n",
       "      background-color: #3B4455;\n",
       "      fill: #D2E3FC;\n",
       "    }\n",
       "\n",
       "    [theme=dark] .colab-df-convert:hover {\n",
       "      background-color: #434B5C;\n",
       "      box-shadow: 0px 1px 3px 1px rgba(0, 0, 0, 0.15);\n",
       "      filter: drop-shadow(0px 1px 2px rgba(0, 0, 0, 0.3));\n",
       "      fill: #FFFFFF;\n",
       "    }\n",
       "  </style>\n",
       "\n",
       "      <script>\n",
       "        const buttonEl =\n",
       "          document.querySelector('#df-76af71dd-7849-4ab4-ade1-c985dc08958d button.colab-df-convert');\n",
       "        buttonEl.style.display =\n",
       "          google.colab.kernel.accessAllowed ? 'block' : 'none';\n",
       "\n",
       "        async function convertToInteractive(key) {\n",
       "          const element = document.querySelector('#df-76af71dd-7849-4ab4-ade1-c985dc08958d');\n",
       "          const dataTable =\n",
       "            await google.colab.kernel.invokeFunction('convertToInteractive',\n",
       "                                                     [key], {});\n",
       "          if (!dataTable) return;\n",
       "\n",
       "          const docLinkHtml = 'Like what you see? Visit the ' +\n",
       "            '<a target=\"_blank\" href=https://colab.research.google.com/notebooks/data_table.ipynb>data table notebook</a>'\n",
       "            + ' to learn more about interactive tables.';\n",
       "          element.innerHTML = '';\n",
       "          dataTable['output_type'] = 'display_data';\n",
       "          await google.colab.output.renderOutput(dataTable, element);\n",
       "          const docLink = document.createElement('div');\n",
       "          docLink.innerHTML = docLinkHtml;\n",
       "          element.appendChild(docLink);\n",
       "        }\n",
       "      </script>\n",
       "    </div>\n",
       "  </div>\n",
       "  "
      ],
      "text/plain": [
       "      t   y_exact   y_Euler  y_Impoved\n",
       "0   0.0  0.500000  0.500000   0.500000\n",
       "1   0.1  0.457256  0.450000   0.457500\n",
       "2   0.2  0.428096  0.415000   0.428538\n",
       "3   0.3  0.411227  0.393500   0.411826\n",
       "4   0.4  0.405480  0.384150   0.406203\n",
       "5   0.5  0.409796  0.385735   0.410614\n",
       "6   0.6  0.423217  0.397162   0.424105\n",
       "7   0.7  0.444878  0.417445   0.445815\n",
       "8   0.8  0.473993  0.445701   0.474963\n",
       "9   0.9  0.509854  0.481131   0.510841\n",
       "10  1.0  0.551819  0.523018   0.552811\n",
       "11  1.1  0.599307  0.570716   0.600294\n",
       "12  1.2  0.651791  0.623644   0.652766"
      ]
     },
     "execution_count": 15,
     "metadata": {},
     "output_type": "execute_result"
    }
   ],
   "source": [
    "df = pd.DataFrame({\"t\":t,\"y_exact\":y_exact,\"y_Euler\":y_euler,\"y_Impoved\":y_improved})\n",
    "df"
   ]
  },
  {
   "cell_type": "markdown",
   "id": "7fe91525-419f-403d-aa96-bdf54fd58255",
   "metadata": {
    "id": "7fe91525-419f-403d-aa96-bdf54fd58255"
   },
   "source": [
    "<hr>\n",
    "\n",
    "## Percent Error for improved Euler's method"
   ]
  },
  {
   "cell_type": "markdown",
   "id": "a7089399-1b24-4cc2-8bd8-562113ef5d88",
   "metadata": {
    "id": "a7089399-1b24-4cc2-8bd8-562113ef5d88",
    "tags": []
   },
   "source": [
    "<h4> Let us now compute the percent error for $y(1)$.  Execute the cell below to display the percent error. Hint: your answer should be less that $0.1$%. For y_exact[1] enter the value you computed by hand when you solved the ode. Express to 2 decimal places."
   ]
  },
  {
   "cell_type": "code",
   "execution_count": null,
   "id": "a9f9fd89-f406-40d5-ac31-687315af00dc",
   "metadata": {
    "colab": {
     "base_uri": "https://localhost:8080/"
    },
    "id": "a9f9fd89-f406-40d5-ac31-687315af00dc",
    "outputId": "2748bea1-ecb6-4d10-e852-55aa778ad495"
   },
   "outputs": [
    {
     "name": "stdout",
     "output_type": "stream",
     "text": [
      "The percent error is 0.05%.\n"
     ]
    }
   ],
   "source": [
    "# Using the improved Euler method the % error when computing y(1) is:\n",
    "error = np.abs(y_exact[1]-y_improved[1])/y_exact[1]*100\n",
    "print(f\"The percent error is {round(error,2)}%.\")"
   ]
  },
  {
   "cell_type": "markdown",
   "id": "95cee1d7-dd8a-4517-9d44-48b9c6e9f0d6",
   "metadata": {
    "id": "95cee1d7-dd8a-4517-9d44-48b9c6e9f0d6"
   },
   "source": [
    "<h4> Execute the cell below to see a plot of the comparison between y_exact and y_improved. Look closely the curves could lie on top of one another."
   ]
  },
  {
   "cell_type": "code",
   "execution_count": null,
   "id": "d700b2d3-f1c4-42bf-8cc7-1bcf057507a7",
   "metadata": {
    "colab": {
     "base_uri": "https://localhost:8080/",
     "height": 403
    },
    "id": "d700b2d3-f1c4-42bf-8cc7-1bcf057507a7",
    "outputId": "47f4f9da-d2c1-475f-fd4e-d52b63883db4"
   },
   "outputs": [
    {
     "data": {
      "image/png": "[encoded data removed]",
      "text/plain": [
       "<Figure size 576x432 with 1 Axes>"
      ]
     },
     "metadata": {
      "image/png": {
       "height": 386,
       "width": 503
      },
      "needs_background": "light"
     },
     "output_type": "display_data"
    }
   ],
   "source": [
    "plt.figure(figsize=(8,6))\n",
    "plt.plot(t,y_improved,'.')\n",
    "plt.plot(t,y_improved,label='improved')\n",
    "\n",
    "plt.plot(t,y_exact,label='exact')\n",
    "plt.legend();\n",
    "plt.grid()\n",
    "plt.xlabel(\"t\")\n",
    "plt.ylabel(\"y\")\n",
    "plt.title(\"Euler's Method\");\n",
    "\n",
    "# To save a copy of the plot to a file uncomment the following.  Note you must have your drive mounted.\n",
    "#plt.savefig(\"euler.png\",dpi=300)"
   ]
  },
  {
   "cell_type": "markdown",
   "id": "8ae175fb-31e1-45b3-bff0-697df1cf7986",
   "metadata": {
    "id": "8ae175fb-31e1-45b3-bff0-697df1cf7986"
   },
   "source": [
    "<hr>\n",
    "\n",
    "## Exercise #3\n",
    "\n",
    "For the final exercise you are to use the improved Euler’s method to obtain the approximate value of y(1.5) for the solution of the initial value problem.\n",
    "\n",
    "$$y ' = 2 xy, y(1) = 1$$\n",
    "\n",
    "Use h = 0.1. Analytically compute the exact value and compute the percent error.\n"
   ]
  },
  {
   "cell_type": "code",
   "execution_count": null,
   "id": "9ff084c0-5a0b-45b8-8b10-065f7f3e58d9",
   "metadata": {
    "id": "9ff084c0-5a0b-45b8-8b10-065f7f3e58d9"
   },
   "outputs": [],
   "source": [
    "# In this cell enter the necessary code to compute y(1.5) using the improved Euler's method. Hint: copy your previous code to this cell and edit it\n",
    "# accordingly\n",
    "\n",
    "# define slope function\n",
    "\n",
    "def ff(x,y):\n",
    "    return 2*x*y\n",
    "\n",
    "h = 0.1\n",
    "\n",
    "\n",
    "# We first \"discretize\" the domain.  The array x holds the x values\n",
    "\n",
    "x = np.arange(1,1.6,h) \n",
    "\n",
    "y = np.zeros_like(x)  # initialize y array to zeros\n",
    "y[0] = 1 # set the intial value - note y[0] = y(1)\n",
    "\n",
    "# implement Euler's method\n",
    "\n",
    "\n",
    "for i in range(len(y)-1):\n",
    "    slope1 = ff(x[i],y[i])\n",
    "    y_temp = y[i]+slope1*h\n",
    "    slope2= ff(x[i+1],y_temp)\n",
    "    slope = (slope1+slope2)/2\n",
    "    y[i+1] = y[i] + slope * h\n",
    "\n",
    "\n",
    "\n"
   ]
  },
  {
   "cell_type": "code",
   "execution_count": null,
   "id": "9t0YyDIclql9",
   "metadata": {
    "colab": {
     "base_uri": "https://localhost:8080/"
    },
    "id": "9t0YyDIclql9",
    "outputId": "b451347f-dc4d-48d8-d1ec-ed2c4bbe0658"
   },
   "outputs": [
    {
     "name": "stdout",
     "output_type": "stream",
     "text": [
      "The approximate value of Y(1.5) using the improved Euler method  is 3.4509285071431197\n"
     ]
    }
   ],
   "source": [
    "print(f\"The approximate value of Y(1.5) using the improved Euler method is {y[5]}\")"
   ]
  },
  {
   "cell_type": "markdown",
   "id": "5ddc0ead-3082-49cf-af2a-e0a92e17d29d",
   "metadata": {
    "id": "5ddc0ead-3082-49cf-af2a-e0a92e17d29d"
   },
   "source": [
    "### Next solve the ode and determine the value y(1.5)\n",
    "This step is not done using python.  Here you have to solve the ode.  Note this equation is separable."
   ]
  },
  {
   "cell_type": "markdown",
   "id": "Xkel2WpxkEF0",
   "metadata": {
    "id": "Xkel2WpxkEF0"
   },
   "source": [
    "---\n",
    "\n",
    "## We analytically solve for the exact solution as follows:\n",
    "\n",
    "![problem](https://github.com/rmartin977/math---267-Spring-2022/blob/main/problem.png?raw=true)"
   ]
  },
  {
   "cell_type": "code",
   "execution_count": null,
   "id": "BC6XR_BVmm2f",
   "metadata": {
    "colab": {
     "base_uri": "https://localhost:8080/"
    },
    "id": "BC6XR_BVmm2f",
    "outputId": "adbd04d6-accd-4738-81ba-05f404b5bebe"
   },
   "outputs": [
    {
     "name": "stdout",
     "output_type": "stream",
     "text": [
      "The exact value of y(1.5) is 3.4903429574618414\n"
     ]
    }
   ],
   "source": [
    "print(f\"The exact value of y(1.5) is {np.exp(1.5**2-1)}\")"
   ]
  },
  {
   "cell_type": "code",
   "execution_count": null,
   "id": "45ab86c5-1eec-4bee-96e6-88da1308a27e",
   "metadata": {
    "id": "45ab86c5-1eec-4bee-96e6-88da1308a27e"
   },
   "outputs": [],
   "source": [
    "# Enter the necessary code in this cell to compute the percent error and display the % error for the previous problem.  Copy and edit the code\n",
    "# used earlier\n",
    "\n",
    "print(f\"The percent error is {}\")\n",
    "\n",
    "\n",
    "\n",
    "\n"
   ]
  },
  {
   "cell_type": "code",
   "execution_count": null,
   "id": "22_g84R-nCXi",
   "metadata": {
    "colab": {
     "base_uri": "https://localhost:8080/"
    },
    "id": "22_g84R-nCXi",
    "outputId": "3bc420e0-d1b0-403a-9590-2cf3574dea50"
   },
   "outputs": [
    {
     "name": "stdout",
     "output_type": "stream",
     "text": [
      "The percent error is 1.13%.\n"
     ]
    }
   ],
   "source": [
    "# Using the improved Euler method the % error when computing y(1.5) is:\n",
    "error = np.abs((3.49-y[5])/y[5])*100\n",
    "print(f\"The percent error is {round(error,2)}%.\")"
   ]
  },
  {
   "cell_type": "markdown",
   "id": "9fd8de00-3d6f-40e1-8188-07bccea51963",
   "metadata": {
    "id": "9fd8de00-3d6f-40e1-8188-07bccea51963"
   },
   "source": [
    "Finally when done share this notebook with ....  rm908@email.vccs.edu\n"
   ]
  },
  {
   "cell_type": "code",
   "execution_count": null,
   "id": "e78a18a4-876d-47e5-b6dd-644a3dd099b0",
   "metadata": {
    "id": "e78a18a4-876d-47e5-b6dd-644a3dd099b0"
   },
   "outputs": [],
   "source": []
  }
 ],
 "metadata": {
  "colab": {
   "collapsed_sections": [],
   "name": "project#1_solution.ipynb",
   "provenance": []
  },
  "kernelspec": {
   "display_name": "Python 3",
   "language": "python",
   "name": "python3"
  },
  "language_info": {
   "codemirror_mode": {
    "name": "ipython",
    "version": 3
   },
   "file_extension": ".py",
   "mimetype": "text/x-python",
   "name": "python",
   "nbconvert_exporter": "python",
   "pygments_lexer": "ipython3",
   "version": "3.7.7"
  }
 },
 "nbformat": 4,
 "nbformat_minor": 5
}
